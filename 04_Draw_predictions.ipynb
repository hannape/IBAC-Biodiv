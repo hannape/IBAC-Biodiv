{
  "nbformat": 4,
  "nbformat_minor": 0,
  "metadata": {
    "colab": {
      "name": "04 Draw predictions.ipynb",
      "provenance": [],
      "collapsed_sections": [],
      "include_colab_link": true
    },
    "kernelspec": {
      "name": "python3",
      "display_name": "Python 3"
    }
  },
  "cells": [
    {
      "cell_type": "markdown",
      "metadata": {
        "id": "view-in-github",
        "colab_type": "text"
      },
      "source": [
        "<a href=\"https://colab.research.google.com/github/hannape/IBAC-Biodiv/blob/master/04_Draw_predictions.ipynb\" target=\"_parent\"><img src=\"https://colab.research.google.com/assets/colab-badge.svg\" alt=\"Open In Colab\"/></a>"
      ]
    },
    {
      "cell_type": "markdown",
      "metadata": {
        "id": "DaCj6Vfv1fZZ",
        "colab_type": "text"
      },
      "source": [
        "Wyrysowanie kilkukrotnego fitowania modelu na jednym wykresie \n",
        "\n",
        "Kod z I: Fig1_IBAC"
      ]
    },
    {
      "cell_type": "code",
      "metadata": {
        "id": "ZjHe5irZ1VKZ",
        "colab_type": "code",
        "colab": {}
      },
      "source": [
        "from google.colab import drive\n",
        "drive.mount('/content/drive')\n",
        "from __future__ import print_function\n"
      ],
      "execution_count": 0,
      "outputs": []
    },
    {
      "cell_type": "code",
      "metadata": {
        "id": "DoLrpwCF1svt",
        "colab_type": "code",
        "colab": {}
      },
      "source": [
        "import numpy as np\n",
        "import matplotlib.pyplot as plt\n",
        "import sklearn.metrics as metrics\n",
        "import os\n",
        "import matplotlib\n",
        "from scipy import interp"
      ],
      "execution_count": 0,
      "outputs": []
    },
    {
      "cell_type": "code",
      "metadata": {
        "id": "RaNfIR9N2K1B",
        "colab_type": "code",
        "colab": {}
      },
      "source": [
        "# kolorki z tableau-20\n",
        "\n",
        "tableau20 = [(31, 119, 180), (174, 199, 232), (255, 127, 14), (255, 187, 120),    \n",
        "             (44, 160, 44), (152, 223, 138)]\n",
        "\n",
        "for i in range(len(tableau20)):    \n",
        "    r, g, b = tableau20[i]    \n",
        "    tableau20[i] = (r / 255., g / 255., b / 255.)   "
      ],
      "execution_count": 0,
      "outputs": []
    },
    {
      "cell_type": "code",
      "metadata": {
        "id": "dCK5GzkW2SV_",
        "colab_type": "code",
        "colab": {}
      },
      "source": [
        "model_out = 'drive/My Drive/models/'                            # główny folder\n",
        "\n",
        "rep_n = [\"rep3V3/50epoch/\",\"rep1V2/\",\"rep5b/100epoch/\"]         # duże reprezentacje\n",
        "title_rys = \"ROC for 3 representations (~60x148)\"\n",
        "rep_n = [\"rep3b/\",\"rep1b/50epoch/\",\"rep5V2/nowa676/100epoch/\"]  # małe reprezentacje\n",
        "title_rys = \"ROC for 3 representations (~60x64)\"\n",
        "\n",
        "\n",
        "font = {'family' : 'normal',\n",
        "        'size'   : 16}\n",
        "\n",
        "matplotlib.rc('font', **font)\n",
        "\n",
        "base_fpr = np.linspace(0, 1, 101)\n",
        "\n",
        "mean_auc=[]\n",
        "\n",
        "plt.figure(figsize=(7,7))\n",
        "\n",
        "for j in (0,np.shape(rep_n)[0]):\n",
        "  fpr = []\n",
        "  tpr = []\n",
        "  tprs = []\n",
        "  runs = []\n",
        "  auc_sum = 0\n",
        "  auc_nr = 0\n",
        "  \n",
        "  runs += [each for each in os.listdir (model_out+rep_n[j]) if each.endswith('.npz')]\n",
        "  print(runs)\n",
        "\n",
        "  for i in runs:\n",
        "      a = np.load(model_out + rep_n[j] + str(i))\n",
        "      tpr = a[\"tpr\"]\n",
        "      fpr = a[\"fpr\"]\n",
        "      roc_auc = metrics.auc(a[\"fpr\"], a[\"tpr\"])\n",
        "      print(roc_auc)\n",
        "      if roc_auc>0.51:\n",
        "        #plt.plot(fpr, tpr, 'b', alpha=0.15)\n",
        "        tpr = interp(base_fpr, fpr, tpr)\n",
        "        tpr[0] = 0.0\n",
        "        tprs.append(tpr)\n",
        "        auc_sum += roc_auc\n",
        "        auc_nr += 1\n",
        "  print(auc_sum)\n",
        "  print(auc_nr)\n",
        "  mean_auc.append(auc_sum/auc_nr)\n",
        "  print(mean_auc)\n",
        "  tprs = np.array(tprs)\n",
        "  mean_tprs = tprs.mean(axis=0)\n",
        "  std = tprs.std(axis=0)\n",
        "\n",
        "  tprs_upper = np.minimum(mean_tprs + std, 1)\n",
        "  tprs_lower = mean_tprs - std\n",
        "\n",
        "  plt.plot(base_fpr, mean_tprs, color = tableau20[j*2])\n",
        "  plt.fill_between(base_fpr, tprs_lower, tprs_upper, color=tableau20[2*j+1], alpha=0.25)\n",
        "  \n",
        "print(mean_auc)\n",
        "#plt.plot([0, 1], [0, 1],'r--')\n",
        "plt.xlim([-0.01, 1.01])\n",
        "plt.ylim([-0.01, 1.01])\n",
        "plt.title(title_rys)\n",
        "plt.ylabel('True Positive Rate')\n",
        "plt.xlabel('False Positive Rate')\n",
        "plt.axes().set_aspect('equal', 'datalim')\n",
        "plt.legend([\"mel-spectrogram, mean AUC: %.3f, epochs: %.0f\" % (mean_auc[0], 50),\n",
        "            \"spectrogram, mean AUC: %.3f, epochs: %.0f \" % (mean_auc[1], 30),\n",
        "            \"multitaper, mean AUC: %.3f, epochs: %.0f\" % (mean_auc[2], 100)])\n",
        "plt.show()"
      ],
      "execution_count": 0,
      "outputs": []
    },
    {
      "cell_type": "code",
      "metadata": {
        "id": "QDlBCv8s2bO6",
        "colab_type": "code",
        "colab": {}
      },
      "source": [
        ""
      ],
      "execution_count": 0,
      "outputs": []
    }
  ]
}