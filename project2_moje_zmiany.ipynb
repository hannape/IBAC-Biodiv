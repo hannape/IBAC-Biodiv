{
  "nbformat": 4,
  "nbformat_minor": 0,
  "metadata": {
    "kernelspec": {
      "name": "python3",
      "display_name": "Python 3"
    },
    "language_info": {
      "codemirror_mode": {
        "name": "ipython",
        "version": 3
      },
      "file_extension": ".py",
      "mimetype": "text/x-python",
      "name": "python",
      "nbconvert_exporter": "python",
      "pygments_lexer": "ipython3",
      "version": "3.6.8"
    },
    "colab": {
      "name": "project2_moje_zmiany.ipynb",
      "provenance": [],
      "collapsed_sections": [],
      "include_colab_link": true
    },
    "accelerator": "GPU"
  },
  "cells": [
    {
      "cell_type": "markdown",
      "metadata": {
        "id": "view-in-github",
        "colab_type": "text"
      },
      "source": [
        "<a href=\"https://colab.research.google.com/github/hannape/IBAC-Biodiv/blob/master/project2_moje_zmiany.ipynb\" target=\"_parent\"><img src=\"https://colab.research.google.com/assets/colab-badge.svg\" alt=\"Open In Colab\"/></a>"
      ]
    },
    {
      "cell_type": "markdown",
      "metadata": {
        "id": "nqpj8k-fzm-s",
        "colab_type": "text"
      },
      "source": [
        "# Funkcje Pomocnicze do Zadania\n",
        "\n",
        "Aby wszystkie funkcje zadziałały, notebook powinien być uruchamiany z następującym ułożeniem katalogów:\n",
        "\n",
        "```\n",
        "|- helpers.ipynb\n",
        "|- sampleSubmission.csv\n",
        "|- train\n",
        " |- {unzipped train files and labels}\n",
        "|- test\n",
        " |- {unzipped test files}\n",
        "```\n",
        "\n",
        "Należy odkomentować u siebie linijki zapisujące pliki."
      ]
    },
    {
      "cell_type": "code",
      "metadata": {
        "_cell_guid": "79c7e3d0-c299-4dcb-8224-4455121ee9b0",
        "_uuid": "d629ff2d2480ee46fbb7e2d37f6b5fab8052498a",
        "id": "GTi8SP9mzm-v",
        "colab_type": "code",
        "colab": {}
      },
      "source": [
        "import os\n",
        "\n",
        "import librosa\n",
        "from scipy import signal\n",
        "from scipy.io import wavfile\n",
        "from sklearn.metrics import roc_auc_score\n",
        "import numpy as np\n",
        "import torch\n",
        "from torch.utils.data import TensorDataset, DataLoader\n",
        "from sklearn import preprocessing\n",
        "import wave\n",
        "import contextlib\n",
        "import math"
      ],
      "execution_count": 0,
      "outputs": []
    },
    {
      "cell_type": "code",
      "metadata": {
        "id": "3_7RdWnT0DsM",
        "colab_type": "code",
        "outputId": "6ee184d3-4db0-46dd-9f15-e34001150e77",
        "colab": {
          "base_uri": "https://localhost:8080/",
          "height": 36
        }
      },
      "source": [
        "from google.colab import drive\n",
        "drive.mount('/content/drive')\n",
        "from __future__ import print_function"
      ],
      "execution_count": 240,
      "outputs": [
        {
          "output_type": "stream",
          "text": [
            "Mounted at /content/drive\n"
          ],
          "name": "stdout"
        }
      ]
    },
    {
      "cell_type": "markdown",
      "metadata": {
        "id": "_Ba6zGBwzm-5",
        "colab_type": "text"
      },
      "source": [
        "# Wczytywanie Danych\n",
        "\n",
        "Poniższe funkcje są przykładowymi funkcjami wczytującymi dane. Możliwe, że będą potrzebne modyfikacje reprezentacji i bardziej skomplikowana funkcja tworząca zbiór treningowy. Wczytywanie danych nie jest zaimplementowane optymalnie - między innymi kod wczytuje wielokrotnie ten sam plik. Dla bardziej złożonych reprezentacji możliwe, że trzeba będzie przepisać te funkcje."
      ]
    },
    {
      "cell_type": "code",
      "metadata": {
        "id": "XXrzpycSzm-7",
        "colab_type": "code",
        "colab": {}
      },
      "source": [
        "def load_mel(file_name, start=0, stop=None, n_mels=128):\n",
        "    '''Wczytuje mel spektrogram z pliku.\n",
        "    \n",
        "    Args:\n",
        "        file_name (str): Nazwa pliku z nagraniem.\n",
        "        start (float): Sekunda, w której zaczyna się interesujący fragment.\n",
        "        stop (float): Sekunda, w której kończy się interesujący fragment.\n",
        "        n_mels (int): Liczba meli na spektrogramie (wysokość spektrogramu).\n",
        "    \n",
        "    Returns:\n",
        "        ndarray: Spektrogram.\n",
        "    '''\n",
        "    samples, sample_rate = librosa.core.load(file_name, sr = None)\n",
        "    samples = samples[int(start * sample_rate):int(stop * sample_rate) if stop else None]\n",
        "    spectrogram = librosa.feature.melspectrogram(y = samples, sr = sample_rate,\n",
        "                                                 n_mels = n_mels, fmin = 4000, fmax = 9500)\n",
        "    spectrogram = librosa.power_to_db(spectrogram, ref=np.max)\n",
        "    #print(np.shape(spectrogram))\n",
        "    return spectrogram\n",
        "\n",
        "\n",
        "def load_spec(file_name, start=0, stop=None):\n",
        "    '''Wczytuje standardowy spektrogram z pliku.\n",
        "    \n",
        "    Args:\n",
        "        file_name (str): Nazwa pliku z nagraniem.\n",
        "        start (float): Sekunda, w której zaczyna się interesujący fragment.\n",
        "        stop (float): Sekunda, w której kończy się interesujący fragment.\n",
        "    \n",
        "    Returns:\n",
        "        ndarray: Spektrogram.\n",
        "    '''\n",
        "    sample_rate, samples = wavfile.read(file_name)\n",
        "    samples = samples[int(start * sample_rate):int(stop * sample_rate) if stop else None]\n",
        "    _, _, spectrogram = signal.spectrogram(samples, sample_rate)\n",
        "    return spectrogram\n",
        "\n",
        "\n",
        "def load_test(load_repr=load_mel):\n",
        "    '''Wczytuje dane testowe.\n",
        "    \n",
        "    Args:\n",
        "        load_repr (function): Funkcja wczytująca pożądaną reprezentację.\n",
        "    \n",
        "    Returns:\n",
        "        ndarray: Tablica z danymi testowymi.\n",
        "    '''\n",
        "    with open('drive/My Drive/top2/sampleSubmission.csv', 'r') as file:\n",
        "        lines = file.read().split()[1:]\n",
        "        sample_ids = [line.split(',')[0] for line in lines]\n",
        "        samples = np.array([s.split('/') for s in sample_ids])\n",
        "    \n",
        "    X_test = []\n",
        "    rec_files = sorted([file_name for file_name in os.listdir('drive/My Drive/test') \n",
        "                        if file_name.endswith('.wav')], key=lambda x: int(x.split('.')[0][3:]))\n",
        "    for file_name in rec_files:\n",
        "        recording_id = file_name.split('.')[0][3:]\n",
        "        time_markers = samples[samples[:, 0] == recording_id, 1].astype(np.int)\n",
        "        for t in time_markers:\n",
        "            representation = load_repr(os.path.join('drive/My Drive/test', file_name), start = t, stop = t + 1)\n",
        "            X_test.append(representation)\n",
        "    return np.array(X_test)\n",
        "\n",
        "\n",
        "def read_labels():\n",
        "    '''Wczytuje etykiety czasowe z pliku labels.txt w folderze train.\n",
        "    \n",
        "    Returns:\n",
        "        ndarray: Tablica z etykietami czasowymi zawierająca kolumny: nr nagrania, sekunda początku dźwięku, sekunda końca dźwięku.\n",
        "    '''\n",
        "    labels = []\n",
        "    with open(os.path.join('drive/My Drive/train', 'labels.txt'), 'r') as file:\n",
        "        text = file.read()\n",
        "        for line in text.split('\\n')[1:]:\n",
        "            if len(line) > 1:\n",
        "                rec, start, stop = line.split(',')\n",
        "                rec, start, stop = int(rec[3:]), float(start), float(stop)\n",
        "                labels.append([rec, start, stop])\n",
        "    return np.array(labels)\n",
        "\n",
        "\n",
        "def check_voices(second, labels, tol=0.):\n",
        "    '''Sprawdza czy w ramce czasowej [second, second+1] znajduje się głos według etykiet `labels`.\n",
        "    \n",
        "    Args:\n",
        "        second (float): Sekunda nagrania.\n",
        "        labels (ndarray): Tablica z etykietami, której 2 kolumna oznacza początek, a 3-cia - koniec nagrania.\n",
        "        tol (float): Tolerancja na brzegach fragmentu. Dźwięk, żeby był uznany, musi się kończyć po czasie `second+tol`\n",
        "            lub zaczynać przed czasem `second+1-tol`.\n",
        "    Returns:\n",
        "        bool: Czy w ramce czasowej jest odgłos ptaka.\n",
        "    '''\n",
        "    return (labels[1] >= second and labels[1] < second + 1 - tol) or \\\n",
        "           (labels[2] < second + 1 and labels[2] > second + tol) or \\\n",
        "           (labels[1] < second and labels[2] > second + 1)\n",
        "\n",
        "\n",
        "def map_seconds_to_y(labels):\n",
        "    '''Tworzy etykiety dla każdej kolejnej sekundy 10-sekundowego nagrania. -1 oznacza niepewną etykietę (urwane dźwięki na brzegach).\n",
        "    \n",
        "    Args:\n",
        "        labels (ndarray): Tablica z etykietami, której 2 kolumna oznacza początek, a 3-cia - koniec nagrania.\n",
        "    Returns:\n",
        "        ndarray: Tablica z binarnymi etykietami dla każdej z 10 sekund z możliwą niepewną etkietą -1.\n",
        "    '''\n",
        "    y = [0] * 10\n",
        "    y_restrictive = [0] * 10\n",
        "    for s in range(10):\n",
        "        for l in labels:\n",
        "            if check_voices(s, l):\n",
        "                y[s] = 1\n",
        "            if check_voices(s, l, 0.02):\n",
        "                y_restrictive[s] = 1\n",
        "        if y[s] != y_restrictive[s]:\n",
        "            y[s] = -1\n",
        "    return y\n",
        "\n",
        "\n",
        "def load_train(load_repr=load_mel):\n",
        "    '''Wczytuje dane treningowe.\n",
        "    \n",
        "    Args:\n",
        "        load_repr (function): Funkcja wczytująca pożądaną reprezentację.\n",
        "    \n",
        "    Returns:\n",
        "        (ndarray, ndarray): Tablica z danymi treningowymi, tablica z binarnymi etykietami treningowymi.\n",
        "    '''\n",
        "    labels = read_labels()\n",
        "    X_train, y_train = [], []\n",
        "    rec_files = [file_name for file_name in os.listdir('drive/My Drive/train') if file_name.endswith('.wav')]\n",
        "    for file_name in rec_files:\n",
        "        recording_id = int(file_name.split('.')[0][3:])\n",
        "        recording_labels = labels[labels[:, 0] == recording_id]\n",
        "        y_binary = map_seconds_to_y(recording_labels)\n",
        "        for i, y in enumerate(y_binary):\n",
        "            if y != -1:\n",
        "                try:\n",
        "                    representation = load_repr(os.path.join('drive/My Drive/train', file_name), start = i, stop = i + 1)\n",
        "                    X_train.append(representation)\n",
        "                    y_train.append(y)\n",
        "                except ValueError:\n",
        "                    print('Error reading file', file_name)\n",
        "                except TypeError:\n",
        "                    print('Unsupported type', file_name)\n",
        "    return np.array(X_train), np.array(y_train)"
      ],
      "execution_count": 0,
      "outputs": []
    },
    {
      "cell_type": "code",
      "metadata": {
        "id": "QMxntVXQJiVR",
        "colab_type": "code",
        "colab": {}
      },
      "source": [
        "from google.colab import drive\n",
        "drive.mount('/content/drive')\n",
        "from __future__ import print_function\n",
        "###########################Dodatkowe, do innego wczytywania nagrań, i innego zapisu predykcji. Do stworzenia testowego \n",
        "  \n",
        "path_test1618 = 'drive/My Drive/testowe_1618/'\n",
        "\n",
        "def my_load_mel(samples, start=0, stop=None ):\n",
        "    '''Wczytuje mel spektrogram z pliku.\n",
        "    \n",
        "    Args:\n",
        "        file_name (str): Nazwa pliku z nagraniem.\n",
        "        start (float): Sekunda, w której zaczyna się interesujący fragment.\n",
        "        stop (float): Sekunda, w której kończy się interesujący fragment.\n",
        "        n_mels (int): Liczba meli na spektrogramie (wysokość spektrogramu).\n",
        "    \n",
        "    Returns:\n",
        "        ndarray: Spektrogram.\n",
        "    '''\n",
        "    sample_rate = 44100\n",
        "    n_mels=128\n",
        "    #samples, sample_rate = librosa.core.load(file_name, sr = None)\n",
        "   \n",
        "    samples = samples[int(start * sample_rate):int(stop * sample_rate) if stop else None]\n",
        "    #if np.shape(samples[0])<sample_rate:\n",
        "    if(np.shape(samples)[0] < sample_rate):\n",
        "      diff = sample_rate - np.shape(samples)[0]\n",
        "      samples = np.pad(samples, (0,diff), 'constant', constant_values=(0))\n",
        "      print((samples))\n",
        "      print(np.shape(samples))\n",
        "     \n",
        "      \n",
        "      \n",
        "      \n",
        "    spectrogram = librosa.feature.melspectrogram(y = samples, sr = sample_rate,\n",
        "                                                   n_mels = n_mels, fmin = 4000, fmax = 9500)\n",
        "    spectrogram = librosa.power_to_db(spectrogram, ref=np.max)\n",
        "    #print(np.shape(spectrogram))\n",
        "    return spectrogram\n",
        "\n",
        "\n",
        "def my_check_voices(second, labels, tol=0.):\n",
        "    '''Sprawdza czy w ramce czasowej [second, second+1] znajduje się głos według etykiet `labels`.\n",
        "    \n",
        "    Args:\n",
        "        second (float): Sekunda nagrania.\n",
        "        labels (ndarray): Tablica z etykietami, której 2 kolumna oznacza początek, a 3-cia - koniec nagrania.\n",
        "        tol (float): Tolerancja na brzegach fragmentu. Dźwięk, żeby był uznany, musi się kończyć po czasie `second+tol`\n",
        "            lub zaczynać przed czasem `second+1-tol`.\n",
        "    Returns:\n",
        "        bool: Czy w ramce czasowej jest odgłos ptaka.\n",
        "    \n",
        "    \n",
        "    if(float(labels[0]) >= second and float(labels[0]) < second + 1 - tol) or \\\n",
        "           (float(labels[1]) < second + 1 and float(labels[1]) > second + tol) or \\\n",
        "           (float(labels[0]) < second and float(labels[1]) > second + 1):\n",
        "            print(\"def my_check_voices\") \n",
        "            print(second)\n",
        "     \n",
        "    calls_to_cut = ['t', 't?', 't ','t  ', 'g', 'czapla', 'gh', 'g cz', 'puszczyk','gaski','g?','mewa?','zwierzak?','high freq','g niskie','??? mysz']\n",
        "    if ((float(labels[0]) >= second and float(labels[0]) < second + 1 - tol) or \\\n",
        "           (float(labels[1]) < second + 1 and float(labels[1]) > second + tol) or \\\n",
        "           (float(labels[0]) < second and float(labels[1]) > second + 1)) and (labels[2] in calls_to_cut): \n",
        "      #y_read[~y_read['bird'].isin(calls_to_cut)]\n",
        "      print(second,labels[2])''' \n",
        "    return (float(labels[0]) >= second and float(labels[0]) < second + 1 - tol) or \\\n",
        "           (float(labels[1]) < second + 1 and float(labels[1]) > second + tol) or \\\n",
        "           (float(labels[0]) < second and float(labels[1]) > second + 1) and (labels[2] in calls_to_cut)\n",
        "\n",
        "\n",
        "def my_read_labels(label_name):\n",
        "    '''Wczytuje etykiety czasowe z pliku labels.txt w folderze train.\n",
        "    \n",
        "    Returns:\n",
        "        ndarray: Tablica z etykietami czasowymi zawierająca kolumny: nr nagrania, sekunda początku dźwięku, sekunda końca dźwięku.\n",
        "    '''\n",
        "    labels = []\n",
        "    with open(os.path.join(path_test1618, label_name + '.txt'), 'r') as file:\n",
        "        text = file.read()\n",
        "        for line in text.split('\\n')[0:]:\n",
        "            if len(line) > 1:\n",
        "                start, stop, spec = line.split('\\t')\n",
        "                print(start)\n",
        "                start, stop, spec = float(start), float(stop), str(spec),\n",
        "                labels.append([start, stop, spec])\n",
        "    return np.array(labels)\n",
        "\n",
        "  \n",
        "def my_map_seconds_to_y(labels, recording_duration):\n",
        "    '''Tworzy etykiety dla każdej kolejnej sekundy 10-sekundowego nagrania. -1 oznacza niepewną etykietę (urwane dźwięki na brzegach).\n",
        "    \n",
        "    Args:\n",
        "        labels (ndarray): Tablica z etykietami, której 2 kolumna oznacza początek, a 3-cia - koniec nagrania.\n",
        "    Returns:\n",
        "        ndarray: Tablica z binarnymi etykietami dla każdej z 10 sekund z możliwą niepewną etkietą -1.\n",
        "    '''\n",
        "    calls_to_cut = ['t', 't?', 't ','t  ', 'g', 'czapla', 'gh', 'g cz', 'puszczyk','gaski','g?','mewa?','zwierzak?','high freq','g niskie','??? mysz']\n",
        "\n",
        "    y = [0] * recording_duration\n",
        "    y_restrictive = [0] * recording_duration\n",
        "    for s in range(recording_duration):\n",
        "        for l in labels:\n",
        "            if my_check_voices(s, l):\n",
        "                y[s] = 1\n",
        "                if l[2] in calls_to_cut:\n",
        "                  y[s] = 0\n",
        "                  print(\"Labele1: \" + l[2]) \n",
        "            if my_check_voices(s, l, 0.02):\n",
        "                y_restrictive[s] = 1\n",
        "                if l[2] in calls_to_cut:\n",
        "                  y_restrictive[s] = 0\n",
        "                  print(\"Labele2: \" + l[2]) \n",
        "        if y[s] != y_restrictive[s]:\n",
        "            y[s] = -1          \n",
        "        \n",
        "    print(\"Labele dla nagrania: \" + str(y))        \n",
        "    return y\n",
        "  \n",
        "  \n",
        "def my_load_test(load_repr=my_load_mel):\n",
        "    '''Wczytuje dane testowe, moje, długie nagrania.\n",
        "\n",
        "    Args:\n",
        "        load_repr (function): Funkcja wczytująca pożądaną reprezentację.\n",
        "\n",
        "    Returns:\n",
        "        (ndarray, ndarray): Tablica z danymi treningowymi, tablica z binarnymi etykietami treningowymi.\n",
        "    '''\n",
        "    \n",
        "    \n",
        "    X_train, y_train = [], []\n",
        "    samples, sample_rate2 = [], []\n",
        "    rec_files = [file_name for file_name in os.listdir(path_test1618) if file_name.endswith('.wav')]\n",
        "    print(rec_files)\n",
        "    #rec_files3 = rec_files[0:6] \n",
        "    #print(rec_files3)\n",
        "    for file_name in  rec_files: # range(0,3):#\n",
        "        #file_name = rec_files[]\n",
        "        recording_id = (file_name.split('.')[0])\n",
        "        print(\"------------Analiza nagrania: \" + file_name + \"-----------\")\n",
        "        fname = path_test1618 + file_name\n",
        "        with contextlib.closing(wave.open(fname,'r')) as f:\n",
        "            frames = f.getnframes()\n",
        "            rate = f.getframerate()\n",
        "            duration = frames / float(rate)\n",
        "            recording_duration = math.ceil(duration)\n",
        "            print(\"Czas trwania - w sekundach: \" + str(recording_duration))\n",
        "        \n",
        "        #recording_labels = labels[labels[:, 0] == recording_id]\n",
        "        recording_labels = my_read_labels(recording_id)\n",
        "        y_binary = my_map_seconds_to_y(recording_labels, recording_duration)\n",
        "        print(\"+++++++++++++++\")\n",
        "        print(fname)\n",
        "        print(\"+++++++++++++++\")\n",
        "        \n",
        "        samples, sample_rate2 = librosa.core.load(fname, sr = None)\n",
        "        print(np.shape(samples))\n",
        "        for i, y in enumerate(y_binary):\n",
        "            if y != -1:\n",
        "                try:\n",
        "                    representation = load_repr(samples, start = i, stop = i + 1)\n",
        "                    if (i%500==0):\n",
        "                      print(i)\n",
        "                      end_time = datetime.datetime.now()\n",
        "                      print(end_time - start_time)\n",
        "                      print(np.shape(X_train),np.shape(y_train))\n",
        "                      start_time == end_time\n",
        "                    X_train.append(representation)\n",
        "                    y_train.append(y)\n",
        "                except ValueError:\n",
        "                    print('Error reading file', file_name)\n",
        "                except TypeError:\n",
        "                    print('Unsupported type', file_name)\n",
        "        #print(np.shape(X_train),np.shape(y_train))           \n",
        "    return np.array(X_train), np.array(y_train)"
      ],
      "execution_count": 0,
      "outputs": []
    },
    {
      "cell_type": "code",
      "metadata": {
        "id": "zAnbAsUsciTH",
        "colab_type": "code",
        "colab": {}
      },
      "source": [
        "####### Przygotowanie zbalansowanego treningu - "
      ],
      "execution_count": 0,
      "outputs": []
    },
    {
      "cell_type": "code",
      "metadata": {
        "id": "07dmXLRThs3y",
        "colab_type": "code",
        "colab": {}
      },
      "source": [
        "import datetime\n",
        "start_time = datetime.datetime.now()\n",
        "X_test, y_test = my_load_test()"
      ],
      "execution_count": 0,
      "outputs": []
    },
    {
      "cell_type": "code",
      "metadata": {
        "id": "2dUQZV2cmOdf",
        "colab_type": "code",
        "colab": {}
      },
      "source": [
        "print(np.shape(X_test))\n",
        "np.savez(path_test1618 + \"testowe_1618\", X_test=X_test,y_test=y_test)\n",
        "Xtest =  np.load(path_test1618 + \"testowe_1618.npz\")\n",
        "print(sum((Xtest[\"y_test\"])==0))"
      ],
      "execution_count": 0,
      "outputs": []
    },
    {
      "cell_type": "code",
      "metadata": {
        "id": "HjpLlnDgJuzB",
        "colab_type": "code",
        "colab": {}
      },
      "source": [
        "with open('drive/My Drive/top2/sampleSubmission.csv', 'r') as file:\n",
        "    lines = file.read().split()[1:]\n",
        "    sample_ids = [line.split(',')[0] for line in lines]\n",
        "    samples = np.array([s.split('/') for s in sample_ids])\n",
        "    print(lines, sample_ids,samples)"
      ],
      "execution_count": 0,
      "outputs": []
    },
    {
      "cell_type": "code",
      "metadata": {
        "id": "E48FPXXBzm-_",
        "colab_type": "code",
        "outputId": "64b079cc-2105-45be-e647-6572acd61bf6",
        "colab": {
          "base_uri": "https://localhost:8080/",
          "height": 54
        }
      },
      "source": [
        "X, y = load_train()\n",
        "\n",
        "print(X.shape)\n",
        "print(y.shape)"
      ],
      "execution_count": 33,
      "outputs": [
        {
          "output_type": "stream",
          "text": [
            "(3589, 128, 87)\n",
            "(3589,)\n"
          ],
          "name": "stdout"
        }
      ]
    },
    {
      "cell_type": "code",
      "metadata": {
        "id": "kNnSf-0ezm_I",
        "colab_type": "code",
        "colab": {}
      },
      "source": [
        "\n",
        "#X_test = load_test()"
      ],
      "execution_count": 0,
      "outputs": []
    },
    {
      "cell_type": "code",
      "metadata": {
        "id": "O7FVfxTHJ0nx",
        "colab_type": "code",
        "colab": {
          "base_uri": "https://localhost:8080/",
          "height": 54
        },
        "outputId": "d6120e16-01f5-4d22-c656-c53bd3cf7a48"
      },
      "source": [
        "#X_test, y_test = my_load_train()\n",
        "\n",
        "print(X_test.shape)\n",
        "print(y_test.shape)"
      ],
      "execution_count": 34,
      "outputs": [
        {
          "output_type": "stream",
          "text": [
            "(35960, 128, 87)\n",
            "(35960,)\n"
          ],
          "name": "stdout"
        }
      ]
    },
    {
      "cell_type": "markdown",
      "metadata": {
        "id": "JBcSC29zzm_M",
        "colab_type": "text"
      },
      "source": [
        "# Model i Trenowanie\n",
        "\n",
        "Poniższy przykład używa poprawnych metryk i zapisuje parametry modelu."
      ]
    },
    {
      "cell_type": "code",
      "metadata": {
        "id": "1gDHzvZbzm_N",
        "colab_type": "code",
        "colab": {}
      },
      "source": [
        "# Dzielenie zbioru danych na treningowy i walidacyjny\n",
        "split_point = int(len(X) * 0.8)\n",
        "\n",
        "X_train = torch.Tensor(X[:split_point])\n",
        "y_train = torch.LongTensor(y[:split_point])\n",
        "\n",
        "X_valid = torch.Tensor(X[split_point:])\n",
        "y_valid = torch.LongTensor(y[split_point:])\n",
        "\n",
        "batch_size = 64\n",
        "\n",
        "dataset = TensorDataset(X_train, y_train)\n",
        "data_loader = DataLoader(dataset, batch_size = batch_size, shuffle = True)\n",
        "\n",
        "valid_dataset = TensorDataset(X_valid, y_valid)\n",
        "valid_data_loader = DataLoader(valid_dataset, batch_size = batch_size)"
      ],
      "execution_count": 0,
      "outputs": []
    },
    {
      "cell_type": "code",
      "metadata": {
        "id": "iyVJZVCDzm_R",
        "colab_type": "code",
        "colab": {}
      },
      "source": [
        "from torch import nn\n",
        "\n",
        "# kopia architektury resnet z biblioteki pytorch (licencja cc)\n",
        "def conv3x3(in_planes, out_planes, stride=1, groups=1, dilation=1):\n",
        "    \"\"\"3x3 convolution with padding\"\"\"\n",
        "    return nn.Conv2d(in_planes, out_planes, kernel_size=3, stride=stride,\n",
        "                     padding=dilation, groups=groups, bias=False, dilation=dilation)\n",
        "\n",
        "\n",
        "def conv1x1(in_planes, out_planes, stride=1):\n",
        "    \"\"\"1x1 convolution\"\"\"\n",
        "    return nn.Conv2d(in_planes, out_planes, kernel_size=1, stride=stride, bias=False)\n",
        "\n",
        "\n",
        "class BasicBlock(nn.Module):\n",
        "    expansion = 1\n",
        "\n",
        "    def __init__(self, inplanes, planes, stride=1, downsample=None, groups=1,\n",
        "                 base_width=64, dilation=1, norm_layer=None):\n",
        "        super(BasicBlock, self).__init__()\n",
        "        if norm_layer is None:\n",
        "            norm_layer = nn.BatchNorm2d\n",
        "        if groups != 1 or base_width != 64:\n",
        "            raise ValueError('BasicBlock only supports groups=1 and base_width=64')\n",
        "        if dilation > 1:\n",
        "            raise NotImplementedError(\"Dilation > 1 not supported in BasicBlock\")\n",
        "        # Both self.conv1 and self.downsample layers downsample the input when stride != 1\n",
        "        self.conv1 = conv3x3(inplanes, planes, stride)\n",
        "        self.bn1 = norm_layer(planes)\n",
        "        self.relu = nn.ReLU(inplace=True)\n",
        "        self.conv2 = conv3x3(planes, planes)\n",
        "        self.bn2 = norm_layer(planes)\n",
        "        self.downsample = downsample\n",
        "        self.stride = stride\n",
        "\n",
        "    def forward(self, x):\n",
        "        identity = x\n",
        "\n",
        "        out = self.conv1(x)\n",
        "        out = self.bn1(out)\n",
        "        out = self.relu(out)\n",
        "\n",
        "        out = self.conv2(out)\n",
        "        out = self.bn2(out)\n",
        "\n",
        "        if self.downsample is not None:\n",
        "            identity = self.downsample(x)\n",
        "\n",
        "        out += identity\n",
        "        out = self.relu(out)\n",
        "\n",
        "        return out\n",
        "\n",
        "\n",
        "class ResNet(nn.Module):\n",
        "\n",
        "    def __init__(self, block, layers, num_classes=2, zero_init_residual=False, # zmiana na 2 klasy\n",
        "                 groups=1, width_per_group=64, replace_stride_with_dilation=None,\n",
        "                 norm_layer=None):\n",
        "        super(ResNet, self).__init__()\n",
        "        if norm_layer is None:\n",
        "            norm_layer = nn.BatchNorm2d\n",
        "        self._norm_layer = norm_layer\n",
        "\n",
        "        self.inplanes = 64\n",
        "        self.dilation = 1\n",
        "        if replace_stride_with_dilation is None:\n",
        "            # each element in the tuple indicates if we should replace\n",
        "            # the 2x2 stride with a dilated convolution instead\n",
        "            replace_stride_with_dilation = [False, False, False]\n",
        "        if len(replace_stride_with_dilation) != 3:\n",
        "            raise ValueError(\"replace_stride_with_dilation should be None \"\n",
        "                             \"or a 3-element tuple, got {}\".format(replace_stride_with_dilation))\n",
        "        self.groups = groups\n",
        "        self.base_width = width_per_group\n",
        "        self.conv1 = nn.Conv2d(1, self.inplanes, kernel_size=7, stride=2, padding=3,\n",
        "                               bias=False)  # <<< konwersja na 1 kanał\n",
        "        self.bn1 = norm_layer(self.inplanes)\n",
        "        self.relu = nn.ReLU(inplace=True)\n",
        "        self.maxpool = nn.MaxPool2d(kernel_size=3, stride=2, padding=1)\n",
        "        self.layer1 = self._make_layer(block, 64, layers[0])\n",
        "        self.layer2 = self._make_layer(block, 128, layers[1], stride=2,\n",
        "                                       dilate=replace_stride_with_dilation[0])\n",
        "        self.layer3 = self._make_layer(block, 256, layers[2], stride=2,\n",
        "                                       dilate=replace_stride_with_dilation[1])\n",
        "        self.layer4 = self._make_layer(block, 512, layers[3], stride=2,\n",
        "                                       dilate=replace_stride_with_dilation[2])\n",
        "        self.avgpool = nn.AdaptiveAvgPool2d((1, 1))\n",
        "        self.fc = nn.Linear(512 * block.expansion, num_classes)\n",
        "\n",
        "        for m in self.modules():\n",
        "            if isinstance(m, nn.Conv2d):\n",
        "                nn.init.kaiming_normal_(m.weight, mode='fan_out', nonlinearity='relu')\n",
        "            elif isinstance(m, (nn.BatchNorm2d, nn.GroupNorm)):\n",
        "                nn.init.constant_(m.weight, 1)\n",
        "                nn.init.constant_(m.bias, 0)\n",
        "\n",
        "        # Zero-initialize the last BN in each residual branch,\n",
        "        # so that the residual branch starts with zeros, and each residual block behaves like an identity.\n",
        "        # This improves the model by 0.2~0.3% according to https://arxiv.org/abs/1706.02677\n",
        "        if zero_init_residual:\n",
        "            for m in self.modules():\n",
        "                if isinstance(m, Bottleneck):\n",
        "                    nn.init.constant_(m.bn3.weight, 0)\n",
        "                elif isinstance(m, BasicBlock):\n",
        "                    nn.init.constant_(m.bn2.weight, 0)\n",
        "\n",
        "    def _make_layer(self, block, planes, blocks, stride=1, dilate=False):\n",
        "        norm_layer = self._norm_layer\n",
        "        downsample = None\n",
        "        previous_dilation = self.dilation\n",
        "        if dilate:\n",
        "            self.dilation *= stride\n",
        "            stride = 1\n",
        "        if stride != 1 or self.inplanes != planes * block.expansion:\n",
        "            downsample = nn.Sequential(\n",
        "                conv1x1(self.inplanes, planes * block.expansion, stride),\n",
        "                norm_layer(planes * block.expansion),\n",
        "            )\n",
        "\n",
        "        layers = []\n",
        "        layers.append(block(self.inplanes, planes, stride, downsample, self.groups,\n",
        "                            self.base_width, previous_dilation, norm_layer))\n",
        "        self.inplanes = planes * block.expansion\n",
        "        for _ in range(1, blocks):\n",
        "            layers.append(block(self.inplanes, planes, groups=self.groups,\n",
        "                                base_width=self.base_width, dilation=self.dilation,\n",
        "                                norm_layer=norm_layer))\n",
        "\n",
        "        return nn.Sequential(*layers)\n",
        "\n",
        "    def forward(self, x):\n",
        "        x = self.conv1(x)\n",
        "        x = self.bn1(x)\n",
        "        x = self.relu(x)\n",
        "        x = self.maxpool(x)\n",
        "\n",
        "        x = self.layer1(x)\n",
        "        x = self.layer2(x)\n",
        "        x = self.layer3(x)\n",
        "        x = self.layer4(x)\n",
        "\n",
        "        x = self.avgpool(x)\n",
        "        x = x.reshape(x.size(0), -1)\n",
        "        x = self.fc(x)\n",
        "\n",
        "        return x\n",
        "\n",
        "clf = ResNet(BasicBlock, [2, 2, 2, 2]).cuda()"
      ],
      "execution_count": 0,
      "outputs": []
    },
    {
      "cell_type": "code",
      "metadata": {
        "id": "r67Z95Cszm_Y",
        "colab_type": "code",
        "outputId": "42164ed9-878d-493f-d9bd-85e1b1ebcaf5",
        "colab": {
          "base_uri": "https://localhost:8080/",
          "height": 306
        }
      },
      "source": [
        "\n",
        "import calendar;\n",
        "import time;\n",
        "ts = calendar.timegm(time.gmtime())\n",
        "\n",
        "for run in range(10):\n",
        "    losses, scores = [], []\n",
        "    epoch = 0\n",
        "    clf = ResNet(BasicBlock, [2, 2, 2, 2]).cuda()\n",
        "\n",
        "    # Ustawienie kosztu i optimizera\n",
        "    criterion = torch.nn.CrossEntropyLoss()\n",
        "    optimizer = torch.optim.Adam(clf.parameters())\n",
        "\n",
        "    # Pętla uczenia\n",
        "    best_preds, best_score = None, 0.\n",
        "    batches = X_train.shape[0]//64\n",
        "    torch.set_num_threads(55)\n",
        "\n",
        "    for epoch in range(15):\n",
        "        running_loss = 0\n",
        "        clf.train()\n",
        "        batch = 0\n",
        "        for X, y in data_loader:\n",
        "            X = X[:,None,:,:]\n",
        "            batch = batch+1\n",
        "\n",
        "            optimizer.zero_grad()\n",
        "\n",
        "            outputs = clf(X.cuda())\n",
        "            loss = criterion(outputs, y.cuda())\n",
        "            loss.backward()\n",
        "            optimizer.step()\n",
        "\n",
        "            running_loss += loss.item()\n",
        "\n",
        "        losses.append(running_loss)\n",
        "\n",
        "        clf.eval()\n",
        "        preds = []\n",
        "        for X, _ in valid_data_loader:\n",
        "            X = X[:,None,:,:]\n",
        "            out = clf(X.cuda())\n",
        "            preds.append(torch.softmax(out, dim = 1)[:, 1].cpu().detach().numpy())\n",
        "        preds = np.concatenate(preds, axis = 0)\n",
        "\n",
        "        # Metryką testującą jest ROC AUC\n",
        "        score = roc_auc_score(y_valid.numpy(), preds)\n",
        "        scores.append(score)\n",
        "        #print('Epoch:', epoch, 'Batch', batch+1, '/', batches, 'Score:', score, 'Loss', running_loss)\n",
        "        if score > best_score:\n",
        "            best_score = score\n",
        "            best_preds = preds\n",
        "            #np.save('tmp_preds', best_preds)\n",
        "\n",
        "            # Model dający najlepszy wynik powinien być zapisany\n",
        "            torch.save(clf.state_dict(), 'tmp_model.pt')\n",
        "            \n",
        "    print(run, \"score\", best_score)\n",
        "    if best_score > 0.945:\n",
        "        print('Saving')\n",
        "        state = torch.load('tmp_model.pt')\n",
        "        t = \"drive/My Drive/models/top2/\" + str(ts)\n",
        "        os.makedirs(t, exist_ok=True)\n",
        "        torch.save(state, t + '/run_' + str(run) + '_' + str(best_score) + '.pt')"
      ],
      "execution_count": 37,
      "outputs": [
        {
          "output_type": "stream",
          "text": [
            "0 score 0.9485496411483253\n",
            "Saving\n",
            "1 score 0.9300687799043061\n"
          ],
          "name": "stdout"
        },
        {
          "output_type": "error",
          "ename": "KeyboardInterrupt",
          "evalue": "ignored",
          "traceback": [
            "\u001b[0;31m---------------------------------------------------------------------------\u001b[0m",
            "\u001b[0;31mKeyboardInterrupt\u001b[0m                         Traceback (most recent call last)",
            "\u001b[0;32m<ipython-input-37-6e19ad044a3d>\u001b[0m in \u001b[0;36m<module>\u001b[0;34m()\u001b[0m\n\u001b[1;32m     33\u001b[0m             \u001b[0moptimizer\u001b[0m\u001b[0;34m.\u001b[0m\u001b[0mstep\u001b[0m\u001b[0;34m(\u001b[0m\u001b[0;34m)\u001b[0m\u001b[0;34m\u001b[0m\u001b[0;34m\u001b[0m\u001b[0m\n\u001b[1;32m     34\u001b[0m \u001b[0;34m\u001b[0m\u001b[0m\n\u001b[0;32m---> 35\u001b[0;31m             \u001b[0mrunning_loss\u001b[0m \u001b[0;34m+=\u001b[0m \u001b[0mloss\u001b[0m\u001b[0;34m.\u001b[0m\u001b[0mitem\u001b[0m\u001b[0;34m(\u001b[0m\u001b[0;34m)\u001b[0m\u001b[0;34m\u001b[0m\u001b[0;34m\u001b[0m\u001b[0m\n\u001b[0m\u001b[1;32m     36\u001b[0m \u001b[0;34m\u001b[0m\u001b[0m\n\u001b[1;32m     37\u001b[0m         \u001b[0mlosses\u001b[0m\u001b[0;34m.\u001b[0m\u001b[0mappend\u001b[0m\u001b[0;34m(\u001b[0m\u001b[0mrunning_loss\u001b[0m\u001b[0;34m)\u001b[0m\u001b[0;34m\u001b[0m\u001b[0;34m\u001b[0m\u001b[0m\n",
            "\u001b[0;31mKeyboardInterrupt\u001b[0m: "
          ]
        }
      ]
    },
    {
      "cell_type": "code",
      "metadata": {
        "id": "OHmVwxLrzm_d",
        "colab_type": "code",
        "outputId": "47e47492-6960-4ee7-8ff9-5edad566ca9a",
        "colab": {
          "base_uri": "https://localhost:8080/",
          "height": 540
        }
      },
      "source": [
        "# Rysowanie lossu i AUC\n",
        "\n",
        "import matplotlib.pyplot as plt\n",
        "\n",
        "%matplotlib inline\n",
        "\n",
        "print('Best score', best_score)\n",
        "\n",
        "plt.plot(scores)\n",
        "plt.show()\n",
        "\n",
        "plt.plot(losses)\n",
        "plt.show()"
      ],
      "execution_count": 38,
      "outputs": [
        {
          "output_type": "stream",
          "text": [
            "Best score 0.9423594497607656\n"
          ],
          "name": "stdout"
        },
        {
          "output_type": "display_data",
          "data": {
            "image/png": "[encoded data removed]",
            "text/plain": [
              "<Figure size 432x288 with 1 Axes>"
            ]
          },
          "metadata": {
            "tags": []
          }
        },
        {
          "output_type": "display_data",
          "data": {
            "image/png": "[encoded data removed]",
            "text/plain": [
              "<Figure size 432x288 with 1 Axes>"
            ]
          },
          "metadata": {
            "tags": []
          }
        }
      ]
    },
    {
      "cell_type": "code",
      "metadata": {
        "id": "zIBqCD_0zm_i",
        "colab_type": "code",
        "outputId": "6a84c752-6d97-4f93-8cf5-581f0cd77684",
        "colab": {
          "base_uri": "https://localhost:8080/",
          "height": 36
        }
      },
      "source": [
        "#clf.load_state_dict(torch.load('tmp_model.pt'))\n",
        "\n",
        "#clf.load_state_dict(torch.load('./models/1558383876/run_5_0.9504516129032259.pt'))\n",
        "#clf.load_state_dict(torch.load('drive/My Drive/models/top2/1570200649/run_0_0.9485496411483253.pt'))\n",
        "\n",
        "clf.load_state_dict(torch.load('drive/My Drive/top2/weights.pt'))\n"
      ],
      "execution_count": 47,
      "outputs": [
        {
          "output_type": "execute_result",
          "data": {
            "text/plain": [
              "<All keys matched successfully>"
            ]
          },
          "metadata": {
            "tags": []
          },
          "execution_count": 47
        }
      ]
    },
    {
      "cell_type": "markdown",
      "metadata": {
        "id": "d_dz5AD-zm_p",
        "colab_type": "text"
      },
      "source": [
        "# Zapis Predykcji"
      ]
    },
    {
      "cell_type": "code",
      "metadata": {
        "id": "gTpv4nIRzm_r",
        "colab_type": "code",
        "colab": {},
        "cellView": "form"
      },
      "source": [
        "#@title\n",
        "def save_predictions(preds):\n",
        "    '''Zapisuje predykcje do pliku zgodnego z formatem odpowiedzi.\n",
        "    \n",
        "    Args:\n",
        "        preds (list): Lista predykcji (prawdopodobieństw).\n",
        "    '''\n",
        "    with open('sampleSubmission.csv', 'r') as file:\n",
        "        submission_text = file.read().split()\n",
        "        header = submission_text[0]\n",
        "        lines = submission_text[1:]\n",
        "\n",
        "    output_lines = [header]\n",
        "    for pred, line in zip(preds, lines):\n",
        "        output_lines.append(\"{},{}\".format(line.split(',')[0], pred))\n",
        "    \n",
        "    with open('mySubmission.csv', 'w') as file:\n",
        "        file.write('\\n'.join(output_lines) + '\\n')"
      ],
      "execution_count": 0,
      "outputs": []
    },
    {
      "cell_type": "code",
      "metadata": {
        "id": "KdT6O89Yzm_v",
        "colab_type": "code",
        "outputId": "bba884cf-22ec-4594-b675-01c217be0b25",
        "colab": {
          "base_uri": "https://localhost:8080/",
          "height": 36
        }
      },
      "source": [
        "# Wczytanie najlepszego modelu\n",
        "# clf.load_state_dict('tmp_model.pt')\n",
        "\n",
        "# Tworzenie data loadera testowego\n",
        "X_test_tensor = torch.Tensor(X_test)\n",
        "\n",
        "test_dataset = TensorDataset(X_test_tensor)\n",
        "test_data_loader = DataLoader(test_dataset, batch_size = batch_size)\n",
        "\n",
        "# Ewaluacja modelu na danych testowych\n",
        "clf.eval()\n",
        "preds = []\n",
        "for X in test_data_loader:\n",
        "    X = X[0]\n",
        "    X = X[:,None,:,:]\n",
        "    out = clf(X.cuda())\n",
        "    preds.append(torch.softmax(out, dim = 1)[:, 1].cpu().detach().numpy())\n",
        "preds = np.concatenate(preds, axis = 0)\n",
        "\n",
        "# Zapisanie predykcji do poprawnego formatu\n",
        "#save_predictions(preds)\n",
        "print('Done')"
      ],
      "execution_count": 48,
      "outputs": [
        {
          "output_type": "stream",
          "text": [
            "Done\n"
          ],
          "name": "stdout"
        }
      ]
    },
    {
      "cell_type": "code",
      "metadata": {
        "id": "lNiNnpTzzm_z",
        "colab_type": "code",
        "colab": {
          "base_uri": "https://localhost:8080/",
          "height": 73
        },
        "outputId": "1e3a4226-c899-4fe0-b787-cf0de60be94c"
      },
      "source": [
        "print(preds)\n",
        "print(np.shape(preds))"
      ],
      "execution_count": 49,
      "outputs": [
        {
          "output_type": "stream",
          "text": [
            "[2.1411208e-05 3.0602310e-05 1.1669370e-06 ... 9.3661540e-05 1.2766370e-05\n",
            " 5.5319097e-06]\n",
            "(35960,)\n"
          ],
          "name": "stdout"
        }
      ]
    },
    {
      "cell_type": "code",
      "metadata": {
        "id": "W478Q2hMSw-h",
        "colab_type": "code",
        "colab": {
          "base_uri": "https://localhost:8080/",
          "height": 36
        },
        "outputId": "55dd2514-4112-40c4-8f62-3638303ae340"
      },
      "source": [
        "score = roc_auc_score(y_test, preds)\n",
        "print(score)"
      ],
      "execution_count": 50,
      "outputs": [
        {
          "output_type": "stream",
          "text": [
            "0.9110486154170139\n"
          ],
          "name": "stdout"
        }
      ]
    },
    {
      "cell_type": "code",
      "metadata": {
        "id": "ElmO45q7TBz0",
        "colab_type": "code",
        "colab": {
          "base_uri": "https://localhost:8080/",
          "height": 492
        },
        "outputId": "9e3f9167-7882-4a51-df7d-b0b404419d45"
      },
      "source": [
        "from sklearn.metrics import roc_curve\n",
        "import numpy as np\n",
        "import matplotlib.pyplot as plt\n",
        "import sklearn.metrics as metrics\n",
        "import os\n",
        "import matplotlib\n",
        "from scipy import interp\n",
        "\n",
        "font = {'family' : 'normal',\n",
        "        'size'   : 16}\n",
        "\n",
        "matplotlib.rc('font', **font)\n",
        "\n",
        "base_fpr = np.linspace(0, 1, 101)\n",
        "\n",
        "plt.figure(figsize=(7,7))\n",
        "score_per = score*100\n",
        "fpr, tpr, thresholds = roc_curve(y_test, preds)\n",
        "plt.plot(fpr,tpr)\n",
        "plt.xlim([-0.01, 1.01])\n",
        "plt.ylim([-0.01, 1.01])\n",
        "plt.title(\"ROC curve for ResNet model\")\n",
        "plt.ylabel('True Positive Rate')\n",
        "plt.xlabel('False Positive Rate')\n",
        "plt.legend([\"AUC: %.1f%%\" % score_per],loc = 'lower right')"
      ],
      "execution_count": 62,
      "outputs": [
        {
          "output_type": "execute_result",
          "data": {
            "text/plain": [
              "<matplotlib.legend.Legend at 0x7fb2d2d2ef98>"
            ]
          },
          "metadata": {
            "tags": []
          },
          "execution_count": 62
        },
        {
          "output_type": "display_data",
          "data": {
            "image/png": "[encoded data removed]",
            "text/plain": [
              "<Figure size 504x504 with 1 Axes>"
            ]
          },
          "metadata": {
            "tags": []
          }
        }
      ]
    },
    {
      "cell_type": "code",
      "metadata": {
        "id": "fUrQ-wiITC4e",
        "colab_type": "code",
        "colab": {}
      },
      "source": [
        ""
      ],
      "execution_count": 0,
      "outputs": []
    }
  ]
}